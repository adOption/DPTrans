{
 "cells": [
  {
   "cell_type": "code",
   "execution_count": 1,
   "metadata": {},
   "outputs": [],
   "source": [
    "import pandas as pd\n",
    "import numpy as np"
   ]
  },
  {
   "cell_type": "code",
   "execution_count": 4,
   "metadata": {},
   "outputs": [],
   "source": [
    "\n",
    "N = 4   # no of variable, as an example one reservoir and 3 nodes\n",
    "corr_demands = 0.7 # correlation among demands\n",
    "corr_reservoir_nodes = 0.001  # correlation among demands and reservoir head (almost no correlation)\n",
    "\n",
    "mat_corr = np.zeros((N,N)) # initializing matrix\n",
    "\n",
    "mat = np.full((N-1,N-1),corr_demands) # step 1 for a symmetric matrix of n-1 by n-1\n",
    "mat_symm = (mat + mat.T)/2           # step 2\n",
    "\n",
    "diag = np.ones(N)   # setting up the diagonal matrix, variance of nodal demands\n",
    "np.fill_diagonal(mat_symm,diag)    \n",
    "mat_corr[1:,1:] = mat_symm\n",
    "\n",
    "mat_corr[0,0] = 1          # element (0,0) which is variance of resevoir head\n",
    "\n",
    "top = np.full((N-1),corr_reservoir_nodes) # covariance between reservoir head and nodal demands\n",
    "mat_corr[0,1:]=top\n",
    "mat_corr[1:,0]=top"
   ]
  },
  {
   "cell_type": "code",
   "execution_count": 5,
   "metadata": {},
   "outputs": [
    {
     "data": {
      "text/plain": [
       "array([[1.e+00, 1.e-04, 1.e-04, 1.e-04],\n",
       "       [1.e-04, 1.e+00, 7.e-01, 7.e-01],\n",
       "       [1.e-04, 7.e-01, 1.e+00, 7.e-01],\n",
       "       [1.e-04, 7.e-01, 7.e-01, 1.e+00]])"
      ]
     },
     "execution_count": 5,
     "metadata": {},
     "output_type": "execute_result"
    }
   ],
   "source": [
    "mat_corr"
   ]
  },
  {
   "cell_type": "code",
   "execution_count": 8,
   "metadata": {},
   "outputs": [],
   "source": [
    "# Standard deviations\n",
    "values = np.array([200,0.003,0.005,0.009])\n",
    "std_devs = values*.2"
   ]
  },
  {
   "cell_type": "code",
   "execution_count": 9,
   "metadata": {},
   "outputs": [
    {
     "data": {
      "text/plain": [
       "array([4.0e+01, 6.0e-04, 1.0e-03, 1.8e-03])"
      ]
     },
     "execution_count": 9,
     "metadata": {},
     "output_type": "execute_result"
    }
   ],
   "source": [
    "std_devs"
   ]
  },
  {
   "cell_type": "code",
   "execution_count": 10,
   "metadata": {},
   "outputs": [],
   "source": [
    "Diag = np.diag(std_devs)"
   ]
  },
  {
   "cell_type": "code",
   "execution_count": 11,
   "metadata": {},
   "outputs": [
    {
     "data": {
      "text/plain": [
       "array([[4.0e+01, 0.0e+00, 0.0e+00, 0.0e+00],\n",
       "       [0.0e+00, 6.0e-04, 0.0e+00, 0.0e+00],\n",
       "       [0.0e+00, 0.0e+00, 1.0e-03, 0.0e+00],\n",
       "       [0.0e+00, 0.0e+00, 0.0e+00, 1.8e-03]])"
      ]
     },
     "execution_count": 11,
     "metadata": {},
     "output_type": "execute_result"
    }
   ],
   "source": [
    "Diag"
   ]
  },
  {
   "cell_type": "code",
   "execution_count": 12,
   "metadata": {},
   "outputs": [],
   "source": [
    "cov_mat = Diag * mat_corr * Diag"
   ]
  },
  {
   "cell_type": "code",
   "execution_count": 13,
   "metadata": {},
   "outputs": [
    {
     "data": {
      "text/plain": [
       "array([[1.60e+03, 0.00e+00, 0.00e+00, 0.00e+00],\n",
       "       [0.00e+00, 3.60e-07, 0.00e+00, 0.00e+00],\n",
       "       [0.00e+00, 0.00e+00, 1.00e-06, 0.00e+00],\n",
       "       [0.00e+00, 0.00e+00, 0.00e+00, 3.24e-06]])"
      ]
     },
     "execution_count": 13,
     "metadata": {},
     "output_type": "execute_result"
    }
   ],
   "source": [
    "cov_mat"
   ]
  },
  {
   "cell_type": "code",
   "execution_count": null,
   "metadata": {},
   "outputs": [],
   "source": []
  }
 ],
 "metadata": {
  "kernelspec": {
   "display_name": "Python 3",
   "language": "python",
   "name": "python3"
  },
  "language_info": {
   "codemirror_mode": {
    "name": "ipython",
    "version": 3
   },
   "file_extension": ".py",
   "mimetype": "text/x-python",
   "name": "python",
   "nbconvert_exporter": "python",
   "pygments_lexer": "ipython3",
   "version": "3.8.5"
  }
 },
 "nbformat": 4,
 "nbformat_minor": 4
}
