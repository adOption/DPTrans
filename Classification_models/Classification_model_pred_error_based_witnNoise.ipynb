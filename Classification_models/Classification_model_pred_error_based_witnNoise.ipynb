{
 "cells": [
  {
   "cell_type": "code",
   "execution_count": 1,
   "metadata": {},
   "outputs": [],
   "source": [
    "import numpy as np\n",
    "import pandas as pd\n",
    "import os\n",
    "import copy\n",
    "import matplotlib.pylab as plt\n",
    "import seaborn as sbn\n",
    "import pickle\n",
    "\n",
    "from scipy.stats import ks_2samp\n",
    "from sklearn.preprocessing import MinMaxScaler, StandardScaler,PolynomialFeatures\n",
    "from sklearn.model_selection import train_test_split\n",
    "from sklearn.metrics import mean_squared_error, mean_absolute_error, r2_score, confusion_matrix, classification_report\n",
    "from sklearn.linear_model import LinearRegression,LogisticRegression\n",
    "from itertools import permutations, combinations\n",
    "from statsmodels.discrete.discrete_model import Logit"
   ]
  },
  {
   "cell_type": "markdown",
   "metadata": {},
   "source": [
    "## Loading datafiles for classification model training and testing"
   ]
  },
  {
   "cell_type": "code",
   "execution_count": 2,
   "metadata": {},
   "outputs": [],
   "source": [
    "# Getting path for the 'parent folder'\n",
    "path_cwd = os.getcwd()\n",
    "path_parent = os.path.abspath(os.path.join(path_cwd, os.pardir))\n",
    "\n",
    "# Getting path for the data files\n",
    "datafiles_folder_name = 'Data_files'\n",
    "\n",
    "datafile_training_low = 'data_training_classification_lowNoise.csv'\n",
    "datafile_test_low = 'data_testing_classification_lowNoise.csv'\n",
    "\n",
    "datafile_training_high = 'data_training_classification_highNoise.csv'\n",
    "datafile_test_high = 'data_testing_classification_highNoise.csv'\n",
    "\n",
    "path_training_low = os.path.join(path_parent,datafiles_folder_name, datafile_training_low)\n",
    "path_test_low = os.path.join(path_parent, datafiles_folder_name, datafile_test_low)\n",
    "\n",
    "path_training_high = os.path.join(path_parent,datafiles_folder_name, datafile_training_high)\n",
    "path_test_high = os.path.join(path_parent, datafiles_folder_name, datafile_test_high)\n",
    "\n",
    "# Loading files\n",
    "data_training_lowNoise = pd.read_csv(path_training_low)\n",
    "data_test_lowNoise = pd.read_csv(path_test_low)\n",
    "data_training_highNoise = pd.read_csv(path_training_high)\n",
    "data_test_highNoise = pd.read_csv(path_test_high)"
   ]
  },
  {
   "cell_type": "code",
   "execution_count": 3,
   "metadata": {},
   "outputs": [],
   "source": [
    "# Selecting the featutes like means, ks_stat or ks_pval\n",
    "\n",
    "def feature_selection(data_df,features,output_col):\n",
    "    \n",
    "    columns = []\n",
    "    for feature in features:\n",
    "        col_temp = [col for col in data_df.columns if feature in col]\n",
    "        columns.extend(col_temp)\n",
    "    columns.extend(output_col)\n",
    "    data_df_select = data_df[columns]\n",
    "    return data_df_select"
   ]
  },
  {
   "cell_type": "markdown",
   "metadata": {},
   "source": [
    "## Logistic Regression Model"
   ]
  },
  {
   "cell_type": "code",
   "execution_count": 4,
   "metadata": {},
   "outputs": [],
   "source": [
    "def logistic_reg(output_type,\n",
    "                 train_df_full,\n",
    "                 test_df_full,\n",
    "                 features): # 'obs','prd','stat','pval'\n",
    "    \n",
    "    if output_type == 'binary':\n",
    "        output_col = ['leak']\n",
    "    else:\n",
    "        output_col = ['leak_num']\n",
    "        \n",
    "    train_df = feature_selection(train_df_full,features,output_col)\n",
    "    test_df = feature_selection(test_df_full,features,output_col)\n",
    "\n",
    "    xdata=np.array(train_df)[:,:-2]\n",
    "    if output_type=='binary':\n",
    "        ydata=np.array(train_df)[:,-2]\n",
    "    else:\n",
    "        ydata=np.array(train_df)[:,-1]\n",
    "    \n",
    "    xdata_test=np.array(test_df)[:,:-2]\n",
    "    if output_type=='binary':\n",
    "        ydata_test=np.array(test_df)[:,-2]\n",
    "    else:\n",
    "        ydata_test=np.array(test_df)[:,-1]\n",
    "    \n",
    "    scaler = StandardScaler()\n",
    "    xtrain_norm = scaler.fit_transform(xdata)\n",
    "    xtest_norm = scaler.transform(xdata_test)\n",
    "    \n",
    "    if output_type=='binary':\n",
    "        model=LogisticRegression()\n",
    "    else:\n",
    "        model=LogisticRegression(multi_class='multinomial',class_weight='balanced',max_iter=5000)\n",
    "        \n",
    "    model.fit(xtrain_norm,ydata)\n",
    "    beta = model.coef_\n",
    "    ypred = model.predict(xtest_norm)\n",
    "    report = classification_report(ydata_test,ypred,output_dict=True)\n",
    "    report_df = pd.DataFrame(report).transpose()\n",
    "    \n",
    "    conf_mat = confusion_matrix(ydata_test,ypred)\n",
    "    \n",
    "    return conf_mat, beta,report_df"
   ]
  },
  {
   "cell_type": "markdown",
   "metadata": {},
   "source": [
    "## Results Low Noise"
   ]
  },
  {
   "cell_type": "code",
   "execution_count": 5,
   "metadata": {},
   "outputs": [],
   "source": [
    "cmat_low_stat,beta_low_stat,report_low_stat = logistic_reg('multi',\n",
    "                                                                    data_training_lowNoise,\n",
    "                                                                    data_test_lowNoise,\n",
    "                                                                   ['stat'])"
   ]
  },
  {
   "cell_type": "code",
   "execution_count": 7,
   "metadata": {},
   "outputs": [],
   "source": [
    "cmat_low_means,beta_low_means,report_low_means = logistic_reg('multi',\n",
    "                                                                    data_training_lowNoise,\n",
    "                                                                    data_test_lowNoise,\n",
    "                                                                   ['obs','prd'])"
   ]
  },
  {
   "cell_type": "code",
   "execution_count": 8,
   "metadata": {},
   "outputs": [],
   "source": [
    "cmat_low_all,beta_low_all,report_low_all = logistic_reg('multi',\n",
    "                                                                    data_training_lowNoise,\n",
    "                                                                    data_test_lowNoise,\n",
    "                                                                   ['stat','obs','prd'])"
   ]
  },
  {
   "cell_type": "code",
   "execution_count": 9,
   "metadata": {},
   "outputs": [
    {
     "data": {
      "text/plain": [
       "array([[900,   0,   0,   0],\n",
       "       [ 77, 121,  47,  55],\n",
       "       [ 77,  44,  98,  81],\n",
       "       [ 87,  39,  86,  88]])"
      ]
     },
     "execution_count": 9,
     "metadata": {},
     "output_type": "execute_result"
    }
   ],
   "source": [
    "cmat_low_stat"
   ]
  },
  {
   "cell_type": "code",
   "execution_count": 11,
   "metadata": {},
   "outputs": [
    {
     "data": {
      "text/plain": [
       "array([[895,   0,   5,   0],\n",
       "       [  1, 299,   0,   0],\n",
       "       [ 25,   0, 275,   0],\n",
       "       [  1,   0,   0, 299]])"
      ]
     },
     "execution_count": 11,
     "metadata": {},
     "output_type": "execute_result"
    }
   ],
   "source": [
    "cmat_low_means"
   ]
  },
  {
   "cell_type": "code",
   "execution_count": 12,
   "metadata": {},
   "outputs": [
    {
     "data": {
      "text/plain": [
       "array([[900,   0,   0,   0],\n",
       "       [  0, 300,   0,   0],\n",
       "       [ 28,   0, 272,   0],\n",
       "       [  1,   0,   0, 299]])"
      ]
     },
     "execution_count": 12,
     "metadata": {},
     "output_type": "execute_result"
    }
   ],
   "source": [
    "cmat_low_all"
   ]
  },
  {
   "cell_type": "markdown",
   "metadata": {},
   "source": [
    "## Results high Noise"
   ]
  },
  {
   "cell_type": "code",
   "execution_count": 13,
   "metadata": {},
   "outputs": [],
   "source": [
    "cmat_high_stat,beta_high_stat,report_high_stat = logistic_reg('multi',\n",
    "                                                                    data_training_highNoise,\n",
    "                                                                    data_test_highNoise,\n",
    "                                                                   ['stat'])\n",
    "cmat_high_means,beta_high_means,report_high_means = logistic_reg('multi',\n",
    "                                                                    data_training_highNoise,\n",
    "                                                                    data_test_highNoise,\n",
    "                                                                   ['obs','prd'])\n",
    "cmat_high_all,beta_high_all,report_high_all = logistic_reg('multi',\n",
    "                                                                    data_training_highNoise,\n",
    "                                                                    data_test_highNoise,\n",
    "                                                                   ['stat','obs','prd'])"
   ]
  },
  {
   "cell_type": "code",
   "execution_count": 14,
   "metadata": {},
   "outputs": [
    {
     "data": {
      "text/plain": [
       "array([[900,   0,   0,   0],\n",
       "       [  0, 124,  97,  79],\n",
       "       [  0, 114,  88,  98],\n",
       "       [  0,  74, 102, 124]])"
      ]
     },
     "execution_count": 14,
     "metadata": {},
     "output_type": "execute_result"
    }
   ],
   "source": [
    "cmat_high_stat"
   ]
  },
  {
   "cell_type": "code",
   "execution_count": 15,
   "metadata": {},
   "outputs": [
    {
     "data": {
      "text/plain": [
       "array([[900,   0,   0,   0],\n",
       "       [  0, 300,   0,   0],\n",
       "       [  0,   0, 300,   0],\n",
       "       [  0,   0,   0, 300]])"
      ]
     },
     "execution_count": 15,
     "metadata": {},
     "output_type": "execute_result"
    }
   ],
   "source": [
    "cmat_high_means"
   ]
  },
  {
   "cell_type": "code",
   "execution_count": 16,
   "metadata": {},
   "outputs": [
    {
     "data": {
      "text/plain": [
       "array([[900,   0,   0,   0],\n",
       "       [  0, 300,   0,   0],\n",
       "       [  0,   0, 300,   0],\n",
       "       [  0,   0,   0, 300]])"
      ]
     },
     "execution_count": 16,
     "metadata": {},
     "output_type": "execute_result"
    }
   ],
   "source": [
    "cmat_high_all"
   ]
  },
  {
   "cell_type": "code",
   "execution_count": null,
   "metadata": {},
   "outputs": [],
   "source": []
  }
 ],
 "metadata": {
  "kernelspec": {
   "display_name": "Python 3",
   "language": "python",
   "name": "python3"
  },
  "language_info": {
   "codemirror_mode": {
    "name": "ipython",
    "version": 3
   },
   "file_extension": ".py",
   "mimetype": "text/x-python",
   "name": "python",
   "nbconvert_exporter": "python",
   "pygments_lexer": "ipython3",
   "version": "3.7.6"
  }
 },
 "nbformat": 4,
 "nbformat_minor": 4
}
