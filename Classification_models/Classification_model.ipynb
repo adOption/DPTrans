{
 "cells": [
  {
   "cell_type": "code",
   "execution_count": 1,
   "metadata": {},
   "outputs": [],
   "source": [
    "import numpy as np\n",
    "import pandas as pd\n",
    "import os\n",
    "import copy\n",
    "import matplotlib.pylab as plt\n",
    "import seaborn as sbn\n",
    "import pickle\n",
    "\n",
    "from scipy.stats import ks_2samp\n",
    "from sklearn.preprocessing import MinMaxScaler, StandardScaler,PolynomialFeatures\n",
    "from sklearn.model_selection import train_test_split\n",
    "from sklearn.metrics import mean_squared_error, mean_absolute_error, r2_score, confusion_matrix, classification_report\n",
    "from sklearn.linear_model import LinearRegression,LogisticRegression\n",
    "from itertools import permutations, combinations"
   ]
  },
  {
   "cell_type": "markdown",
   "metadata": {},
   "source": [
    "## Loading datafiles for classification model training and testing"
   ]
  },
  {
   "cell_type": "code",
   "execution_count": 2,
   "metadata": {},
   "outputs": [],
   "source": [
    "# Getting path for the 'parent folder'\n",
    "path_cwd = os.getcwd()\n",
    "path_parent = os.path.abspath(os.path.join(path_cwd, os.pardir))\n",
    "\n",
    "# Getting path for the data files\n",
    "datafiles_folder_name = 'Data_files'\n",
    "\n",
    "datafile_training_predError = 'data_training_classification_pred_error_based.csv'\n",
    "datafile_test1_predError = 'data_testing_classification_pred_error_based_BaseDemand.csv'\n",
    "datafile_test2_predError = 'data_testing_classification_pred_error_based_DiffLow.csv'\n",
    "datafile_test3_predError = 'data_testing_classification_pred_error_based_DiffHigh.csv'\n",
    "\n",
    "\n",
    "datafile_training_mean = 'data_training_classification_mean_based.csv'\n",
    "datafile_test1_mean = 'data_testing_classification_mean_based_BaseDemand.csv'\n",
    "datafile_test2_mean = 'data_testing_classification_mean_based_DiffLow.csv'\n",
    "datafile_test3_mean = 'data_testing_classification_mean_based_DiffHigh.csv'\n",
    "\n",
    "path_training_predError = os.path.join(path_parent,datafiles_folder_name, datafile_training_predError)\n",
    "path_test1_predError = os.path.join(path_parent, datafiles_folder_name, datafile_test1_predError)\n",
    "path_test2_predError = os.path.join(path_parent, datafiles_folder_name, datafile_test2_predError)\n",
    "path_test3_predError = os.path.join(path_parent, datafiles_folder_name, datafile_test3_predError)\n",
    "\n",
    "path_training_mean = os.path.join(path_parent, datafiles_folder_name, datafile_training_mean)\n",
    "path_test1_mean = os.path.join(path_parent, datafiles_folder_name, datafile_test1_mean)\n",
    "path_test2_mean = os.path.join(path_parent, datafiles_folder_name, datafile_test2_mean)\n",
    "path_test3_mean = os.path.join(path_parent, datafiles_folder_name, datafile_test3_mean)\n",
    "\n",
    "# Loading files\n",
    "data_training_predError = pd.read_csv(path_training_predError)\n",
    "data_test1_predError = pd.read_csv(path_test1_predError)\n",
    "data_test2_predError = pd.read_csv(path_test2_predError)\n",
    "data_test3_predError = pd.read_csv(path_test3_predError)\n",
    "\n",
    "data_training_mean = pd.read_csv(path_training_mean)\n",
    "data_test1_mean = pd.read_csv(path_test1_mean)\n",
    "data_test2_mean = pd.read_csv(path_test2_mean)\n",
    "data_test3_mean = pd.read_csv(path_test3_mean)"
   ]
  },
  {
   "cell_type": "markdown",
   "metadata": {},
   "source": [
    "## Logistic Regression Model"
   ]
  },
  {
   "cell_type": "code",
   "execution_count": 8,
   "metadata": {},
   "outputs": [],
   "source": [
    "def logistic_reg(output_type,train_df,test_df):\n",
    "\n",
    "    xdata=np.array(train_df)[:,:-2]\n",
    "    if output_type=='binary':\n",
    "        ydata=np.array(train_df)[:,-2]\n",
    "    else:\n",
    "        ydata=np.array(train_df)[:,-1]\n",
    "    \n",
    "    xdata_test=np.array(test_df)[:,:-2]\n",
    "    if output_type=='binary':\n",
    "        ydata_test=np.array(test_df)[:,-2]\n",
    "    else:\n",
    "        ydata_test=np.array(test_df)[:,-1]\n",
    "    \n",
    "    scaler = StandardScaler()\n",
    "    xtrain_norm = scaler.fit_transform(xdata)\n",
    "    xtest_norm = scaler.transform(xdata_test)\n",
    "    print(xtrain_norm.shape)\n",
    "    \n",
    "    if output_type=='binary':\n",
    "        model=LogisticRegression()\n",
    "    else:\n",
    "        model=LogisticRegression(multi_class='multinomial',class_weight='balanced',max_iter=5000)\n",
    "        \n",
    "    model.fit(xtrain_norm,ydata)\n",
    "    beta = model.coef_\n",
    "    ypred = model.predict(xtest_norm)\n",
    "    report = classification_report(ydata_test,ypred,output_dict=True)\n",
    "    report_df = pd.DataFrame(report).transpose()\n",
    "    \n",
    "    conf_mat = confusion_matrix(ydata_test,ypred)\n",
    "    \n",
    "    return conf_mat, beta,report_df"
   ]
  },
  {
   "cell_type": "markdown",
   "metadata": {},
   "source": [
    "## Results for Mean Based approach"
   ]
  },
  {
   "cell_type": "markdown",
   "metadata": {},
   "source": [
    "* Test Set with normal/expected demand based 'no leak data' plus leak data"
   ]
  },
  {
   "cell_type": "code",
   "execution_count": 9,
   "metadata": {},
   "outputs": [
    {
     "name": "stdout",
     "output_type": "stream",
     "text": [
      "(180, 28)\n"
     ]
    }
   ],
   "source": [
    "cmat_mean_1,beta_mean_1,report_mean_1 = logistic_reg('multi',data_training_mean,data_test1_mean)"
   ]
  },
  {
   "cell_type": "code",
   "execution_count": 9,
   "metadata": {},
   "outputs": [
    {
     "data": {
      "text/plain": [
       "array([[30, 40, 13,  7],\n",
       "       [ 9, 18,  1,  2],\n",
       "       [ 6,  5, 18,  1],\n",
       "       [ 5,  2,  2, 21]])"
      ]
     },
     "execution_count": 9,
     "metadata": {},
     "output_type": "execute_result"
    }
   ],
   "source": [
    "cmat_mean_1"
   ]
  },
  {
   "cell_type": "code",
   "execution_count": 10,
   "metadata": {},
   "outputs": [
    {
     "data": {
      "text/html": [
       "<div>\n",
       "<style scoped>\n",
       "    .dataframe tbody tr th:only-of-type {\n",
       "        vertical-align: middle;\n",
       "    }\n",
       "\n",
       "    .dataframe tbody tr th {\n",
       "        vertical-align: top;\n",
       "    }\n",
       "\n",
       "    .dataframe thead th {\n",
       "        text-align: right;\n",
       "    }\n",
       "</style>\n",
       "<table border=\"1\" class=\"dataframe\">\n",
       "  <thead>\n",
       "    <tr style=\"text-align: right;\">\n",
       "      <th></th>\n",
       "      <th>precision</th>\n",
       "      <th>recall</th>\n",
       "      <th>f1-score</th>\n",
       "      <th>support</th>\n",
       "    </tr>\n",
       "  </thead>\n",
       "  <tbody>\n",
       "    <tr>\n",
       "      <th>0.0</th>\n",
       "      <td>0.600000</td>\n",
       "      <td>0.333333</td>\n",
       "      <td>0.428571</td>\n",
       "      <td>90.000000</td>\n",
       "    </tr>\n",
       "    <tr>\n",
       "      <th>14.0</th>\n",
       "      <td>0.276923</td>\n",
       "      <td>0.600000</td>\n",
       "      <td>0.378947</td>\n",
       "      <td>30.000000</td>\n",
       "    </tr>\n",
       "    <tr>\n",
       "      <th>24.0</th>\n",
       "      <td>0.529412</td>\n",
       "      <td>0.600000</td>\n",
       "      <td>0.562500</td>\n",
       "      <td>30.000000</td>\n",
       "    </tr>\n",
       "    <tr>\n",
       "      <th>31.0</th>\n",
       "      <td>0.677419</td>\n",
       "      <td>0.700000</td>\n",
       "      <td>0.688525</td>\n",
       "      <td>30.000000</td>\n",
       "    </tr>\n",
       "    <tr>\n",
       "      <th>accuracy</th>\n",
       "      <td>0.483333</td>\n",
       "      <td>0.483333</td>\n",
       "      <td>0.483333</td>\n",
       "      <td>0.483333</td>\n",
       "    </tr>\n",
       "    <tr>\n",
       "      <th>macro avg</th>\n",
       "      <td>0.520939</td>\n",
       "      <td>0.558333</td>\n",
       "      <td>0.514636</td>\n",
       "      <td>180.000000</td>\n",
       "    </tr>\n",
       "    <tr>\n",
       "      <th>weighted avg</th>\n",
       "      <td>0.547292</td>\n",
       "      <td>0.483333</td>\n",
       "      <td>0.485948</td>\n",
       "      <td>180.000000</td>\n",
       "    </tr>\n",
       "  </tbody>\n",
       "</table>\n",
       "</div>"
      ],
      "text/plain": [
       "              precision    recall  f1-score     support\n",
       "0.0            0.600000  0.333333  0.428571   90.000000\n",
       "14.0           0.276923  0.600000  0.378947   30.000000\n",
       "24.0           0.529412  0.600000  0.562500   30.000000\n",
       "31.0           0.677419  0.700000  0.688525   30.000000\n",
       "accuracy       0.483333  0.483333  0.483333    0.483333\n",
       "macro avg      0.520939  0.558333  0.514636  180.000000\n",
       "weighted avg   0.547292  0.483333  0.485948  180.000000"
      ]
     },
     "execution_count": 10,
     "metadata": {},
     "output_type": "execute_result"
    }
   ],
   "source": [
    "report_mean_1"
   ]
  },
  {
   "cell_type": "code",
   "execution_count": null,
   "metadata": {},
   "outputs": [],
   "source": []
  },
  {
   "cell_type": "markdown",
   "metadata": {},
   "source": [
    "* Test Set with moderately higher demand based 'no leak data' plus leak data"
   ]
  },
  {
   "cell_type": "code",
   "execution_count": 10,
   "metadata": {},
   "outputs": [
    {
     "name": "stdout",
     "output_type": "stream",
     "text": [
      "(180, 28)\n"
     ]
    }
   ],
   "source": [
    "cmat_mean_2,beta_mean_2,report_mean_2 = logistic_reg('multi',data_training_mean,data_test2_mean)"
   ]
  },
  {
   "cell_type": "code",
   "execution_count": 12,
   "metadata": {},
   "outputs": [
    {
     "data": {
      "text/plain": [
       "array([[40, 13, 29,  8],\n",
       "       [ 9, 18,  1,  2],\n",
       "       [ 6,  5, 18,  1],\n",
       "       [ 5,  2,  2, 21]])"
      ]
     },
     "execution_count": 12,
     "metadata": {},
     "output_type": "execute_result"
    }
   ],
   "source": [
    "cmat_mean_2"
   ]
  },
  {
   "cell_type": "code",
   "execution_count": 13,
   "metadata": {},
   "outputs": [
    {
     "data": {
      "text/html": [
       "<div>\n",
       "<style scoped>\n",
       "    .dataframe tbody tr th:only-of-type {\n",
       "        vertical-align: middle;\n",
       "    }\n",
       "\n",
       "    .dataframe tbody tr th {\n",
       "        vertical-align: top;\n",
       "    }\n",
       "\n",
       "    .dataframe thead th {\n",
       "        text-align: right;\n",
       "    }\n",
       "</style>\n",
       "<table border=\"1\" class=\"dataframe\">\n",
       "  <thead>\n",
       "    <tr style=\"text-align: right;\">\n",
       "      <th></th>\n",
       "      <th>precision</th>\n",
       "      <th>recall</th>\n",
       "      <th>f1-score</th>\n",
       "      <th>support</th>\n",
       "    </tr>\n",
       "  </thead>\n",
       "  <tbody>\n",
       "    <tr>\n",
       "      <th>0.0</th>\n",
       "      <td>0.666667</td>\n",
       "      <td>0.444444</td>\n",
       "      <td>0.533333</td>\n",
       "      <td>90.000000</td>\n",
       "    </tr>\n",
       "    <tr>\n",
       "      <th>14.0</th>\n",
       "      <td>0.473684</td>\n",
       "      <td>0.600000</td>\n",
       "      <td>0.529412</td>\n",
       "      <td>30.000000</td>\n",
       "    </tr>\n",
       "    <tr>\n",
       "      <th>24.0</th>\n",
       "      <td>0.360000</td>\n",
       "      <td>0.600000</td>\n",
       "      <td>0.450000</td>\n",
       "      <td>30.000000</td>\n",
       "    </tr>\n",
       "    <tr>\n",
       "      <th>31.0</th>\n",
       "      <td>0.656250</td>\n",
       "      <td>0.700000</td>\n",
       "      <td>0.677419</td>\n",
       "      <td>30.000000</td>\n",
       "    </tr>\n",
       "    <tr>\n",
       "      <th>accuracy</th>\n",
       "      <td>0.538889</td>\n",
       "      <td>0.538889</td>\n",
       "      <td>0.538889</td>\n",
       "      <td>0.538889</td>\n",
       "    </tr>\n",
       "    <tr>\n",
       "      <th>macro avg</th>\n",
       "      <td>0.539150</td>\n",
       "      <td>0.586111</td>\n",
       "      <td>0.547541</td>\n",
       "      <td>180.000000</td>\n",
       "    </tr>\n",
       "    <tr>\n",
       "      <th>weighted avg</th>\n",
       "      <td>0.581656</td>\n",
       "      <td>0.538889</td>\n",
       "      <td>0.542805</td>\n",
       "      <td>180.000000</td>\n",
       "    </tr>\n",
       "  </tbody>\n",
       "</table>\n",
       "</div>"
      ],
      "text/plain": [
       "              precision    recall  f1-score     support\n",
       "0.0            0.666667  0.444444  0.533333   90.000000\n",
       "14.0           0.473684  0.600000  0.529412   30.000000\n",
       "24.0           0.360000  0.600000  0.450000   30.000000\n",
       "31.0           0.656250  0.700000  0.677419   30.000000\n",
       "accuracy       0.538889  0.538889  0.538889    0.538889\n",
       "macro avg      0.539150  0.586111  0.547541  180.000000\n",
       "weighted avg   0.581656  0.538889  0.542805  180.000000"
      ]
     },
     "execution_count": 13,
     "metadata": {},
     "output_type": "execute_result"
    }
   ],
   "source": [
    "report_mean_2"
   ]
  },
  {
   "cell_type": "code",
   "execution_count": null,
   "metadata": {},
   "outputs": [],
   "source": []
  },
  {
   "cell_type": "code",
   "execution_count": null,
   "metadata": {},
   "outputs": [],
   "source": [
    "* Test Set with higher demand based 'no leak data' plus leak data"
   ]
  },
  {
   "cell_type": "code",
   "execution_count": 14,
   "metadata": {},
   "outputs": [],
   "source": [
    "cmat_mean_3,beta_mean_3,report_mean_3 = logistic_reg('multi',data_training_mean,data_test3_mean)"
   ]
  },
  {
   "cell_type": "code",
   "execution_count": 15,
   "metadata": {},
   "outputs": [
    {
     "data": {
      "text/plain": [
       "array([[11,  9, 67,  3],\n",
       "       [ 9, 18,  1,  2],\n",
       "       [ 6,  5, 18,  1],\n",
       "       [ 5,  2,  2, 21]])"
      ]
     },
     "execution_count": 15,
     "metadata": {},
     "output_type": "execute_result"
    }
   ],
   "source": [
    "cmat_mean_3"
   ]
  },
  {
   "cell_type": "code",
   "execution_count": 16,
   "metadata": {},
   "outputs": [
    {
     "data": {
      "text/html": [
       "<div>\n",
       "<style scoped>\n",
       "    .dataframe tbody tr th:only-of-type {\n",
       "        vertical-align: middle;\n",
       "    }\n",
       "\n",
       "    .dataframe tbody tr th {\n",
       "        vertical-align: top;\n",
       "    }\n",
       "\n",
       "    .dataframe thead th {\n",
       "        text-align: right;\n",
       "    }\n",
       "</style>\n",
       "<table border=\"1\" class=\"dataframe\">\n",
       "  <thead>\n",
       "    <tr style=\"text-align: right;\">\n",
       "      <th></th>\n",
       "      <th>precision</th>\n",
       "      <th>recall</th>\n",
       "      <th>f1-score</th>\n",
       "      <th>support</th>\n",
       "    </tr>\n",
       "  </thead>\n",
       "  <tbody>\n",
       "    <tr>\n",
       "      <th>0.0</th>\n",
       "      <td>0.354839</td>\n",
       "      <td>0.122222</td>\n",
       "      <td>0.181818</td>\n",
       "      <td>90.000000</td>\n",
       "    </tr>\n",
       "    <tr>\n",
       "      <th>14.0</th>\n",
       "      <td>0.529412</td>\n",
       "      <td>0.600000</td>\n",
       "      <td>0.562500</td>\n",
       "      <td>30.000000</td>\n",
       "    </tr>\n",
       "    <tr>\n",
       "      <th>24.0</th>\n",
       "      <td>0.204545</td>\n",
       "      <td>0.600000</td>\n",
       "      <td>0.305085</td>\n",
       "      <td>30.000000</td>\n",
       "    </tr>\n",
       "    <tr>\n",
       "      <th>31.0</th>\n",
       "      <td>0.777778</td>\n",
       "      <td>0.700000</td>\n",
       "      <td>0.736842</td>\n",
       "      <td>30.000000</td>\n",
       "    </tr>\n",
       "    <tr>\n",
       "      <th>accuracy</th>\n",
       "      <td>0.377778</td>\n",
       "      <td>0.377778</td>\n",
       "      <td>0.377778</td>\n",
       "      <td>0.377778</td>\n",
       "    </tr>\n",
       "    <tr>\n",
       "      <th>macro avg</th>\n",
       "      <td>0.466643</td>\n",
       "      <td>0.505556</td>\n",
       "      <td>0.446561</td>\n",
       "      <td>180.000000</td>\n",
       "    </tr>\n",
       "    <tr>\n",
       "      <th>weighted avg</th>\n",
       "      <td>0.429375</td>\n",
       "      <td>0.377778</td>\n",
       "      <td>0.358314</td>\n",
       "      <td>180.000000</td>\n",
       "    </tr>\n",
       "  </tbody>\n",
       "</table>\n",
       "</div>"
      ],
      "text/plain": [
       "              precision    recall  f1-score     support\n",
       "0.0            0.354839  0.122222  0.181818   90.000000\n",
       "14.0           0.529412  0.600000  0.562500   30.000000\n",
       "24.0           0.204545  0.600000  0.305085   30.000000\n",
       "31.0           0.777778  0.700000  0.736842   30.000000\n",
       "accuracy       0.377778  0.377778  0.377778    0.377778\n",
       "macro avg      0.466643  0.505556  0.446561  180.000000\n",
       "weighted avg   0.429375  0.377778  0.358314  180.000000"
      ]
     },
     "execution_count": 16,
     "metadata": {},
     "output_type": "execute_result"
    }
   ],
   "source": [
    "report_mean_3"
   ]
  },
  {
   "cell_type": "markdown",
   "metadata": {},
   "source": [
    "## Results for Prediction Error based approach"
   ]
  },
  {
   "cell_type": "markdown",
   "metadata": {},
   "source": [
    "* Test Set with normal/expected demand based 'no leak data' plus leak data"
   ]
  },
  {
   "cell_type": "code",
   "execution_count": 11,
   "metadata": {},
   "outputs": [
    {
     "name": "stdout",
     "output_type": "stream",
     "text": [
      "(180, 84)\n"
     ]
    }
   ],
   "source": [
    "cmat_predError_1,beta_predError_1,report_predError_1 = logistic_reg('multi',data_training_predError,data_test1_predError)"
   ]
  },
  {
   "cell_type": "code",
   "execution_count": 12,
   "metadata": {},
   "outputs": [
    {
     "data": {
      "text/plain": [
       "array([[25, 28, 23, 14],\n",
       "       [ 7, 19,  3,  1],\n",
       "       [ 6,  2, 18,  4],\n",
       "       [ 4,  7,  1, 18]])"
      ]
     },
     "execution_count": 12,
     "metadata": {},
     "output_type": "execute_result"
    }
   ],
   "source": [
    "cmat_predError_1"
   ]
  },
  {
   "cell_type": "code",
   "execution_count": 19,
   "metadata": {},
   "outputs": [
    {
     "data": {
      "text/html": [
       "<div>\n",
       "<style scoped>\n",
       "    .dataframe tbody tr th:only-of-type {\n",
       "        vertical-align: middle;\n",
       "    }\n",
       "\n",
       "    .dataframe tbody tr th {\n",
       "        vertical-align: top;\n",
       "    }\n",
       "\n",
       "    .dataframe thead th {\n",
       "        text-align: right;\n",
       "    }\n",
       "</style>\n",
       "<table border=\"1\" class=\"dataframe\">\n",
       "  <thead>\n",
       "    <tr style=\"text-align: right;\">\n",
       "      <th></th>\n",
       "      <th>precision</th>\n",
       "      <th>recall</th>\n",
       "      <th>f1-score</th>\n",
       "      <th>support</th>\n",
       "    </tr>\n",
       "  </thead>\n",
       "  <tbody>\n",
       "    <tr>\n",
       "      <th>0.0</th>\n",
       "      <td>0.595238</td>\n",
       "      <td>0.277778</td>\n",
       "      <td>0.378788</td>\n",
       "      <td>90.000000</td>\n",
       "    </tr>\n",
       "    <tr>\n",
       "      <th>14.0</th>\n",
       "      <td>0.339286</td>\n",
       "      <td>0.633333</td>\n",
       "      <td>0.441860</td>\n",
       "      <td>30.000000</td>\n",
       "    </tr>\n",
       "    <tr>\n",
       "      <th>24.0</th>\n",
       "      <td>0.400000</td>\n",
       "      <td>0.600000</td>\n",
       "      <td>0.480000</td>\n",
       "      <td>30.000000</td>\n",
       "    </tr>\n",
       "    <tr>\n",
       "      <th>31.0</th>\n",
       "      <td>0.486486</td>\n",
       "      <td>0.600000</td>\n",
       "      <td>0.537313</td>\n",
       "      <td>30.000000</td>\n",
       "    </tr>\n",
       "    <tr>\n",
       "      <th>accuracy</th>\n",
       "      <td>0.444444</td>\n",
       "      <td>0.444444</td>\n",
       "      <td>0.444444</td>\n",
       "      <td>0.444444</td>\n",
       "    </tr>\n",
       "    <tr>\n",
       "      <th>macro avg</th>\n",
       "      <td>0.455253</td>\n",
       "      <td>0.527778</td>\n",
       "      <td>0.459490</td>\n",
       "      <td>180.000000</td>\n",
       "    </tr>\n",
       "    <tr>\n",
       "      <th>weighted avg</th>\n",
       "      <td>0.501914</td>\n",
       "      <td>0.444444</td>\n",
       "      <td>0.432590</td>\n",
       "      <td>180.000000</td>\n",
       "    </tr>\n",
       "  </tbody>\n",
       "</table>\n",
       "</div>"
      ],
      "text/plain": [
       "              precision    recall  f1-score     support\n",
       "0.0            0.595238  0.277778  0.378788   90.000000\n",
       "14.0           0.339286  0.633333  0.441860   30.000000\n",
       "24.0           0.400000  0.600000  0.480000   30.000000\n",
       "31.0           0.486486  0.600000  0.537313   30.000000\n",
       "accuracy       0.444444  0.444444  0.444444    0.444444\n",
       "macro avg      0.455253  0.527778  0.459490  180.000000\n",
       "weighted avg   0.501914  0.444444  0.432590  180.000000"
      ]
     },
     "execution_count": 19,
     "metadata": {},
     "output_type": "execute_result"
    }
   ],
   "source": [
    "report_predError_1"
   ]
  },
  {
   "cell_type": "code",
   "execution_count": null,
   "metadata": {},
   "outputs": [],
   "source": [
    "* Test Set with moderately higher demand based 'no leak data' plus leak data"
   ]
  },
  {
   "cell_type": "code",
   "execution_count": 20,
   "metadata": {},
   "outputs": [],
   "source": [
    "cmat_predError_2,beta_predError_2,report_predError_2 = logistic_reg('multi',data_training_predError,data_test2_predError)"
   ]
  },
  {
   "cell_type": "code",
   "execution_count": 21,
   "metadata": {},
   "outputs": [
    {
     "data": {
      "text/plain": [
       "array([[40, 18, 24,  8],\n",
       "       [ 7, 19,  3,  1],\n",
       "       [ 6,  2, 18,  4],\n",
       "       [ 4,  7,  1, 18]])"
      ]
     },
     "execution_count": 21,
     "metadata": {},
     "output_type": "execute_result"
    }
   ],
   "source": [
    "cmat_predError_2"
   ]
  },
  {
   "cell_type": "code",
   "execution_count": 22,
   "metadata": {},
   "outputs": [
    {
     "data": {
      "text/html": [
       "<div>\n",
       "<style scoped>\n",
       "    .dataframe tbody tr th:only-of-type {\n",
       "        vertical-align: middle;\n",
       "    }\n",
       "\n",
       "    .dataframe tbody tr th {\n",
       "        vertical-align: top;\n",
       "    }\n",
       "\n",
       "    .dataframe thead th {\n",
       "        text-align: right;\n",
       "    }\n",
       "</style>\n",
       "<table border=\"1\" class=\"dataframe\">\n",
       "  <thead>\n",
       "    <tr style=\"text-align: right;\">\n",
       "      <th></th>\n",
       "      <th>precision</th>\n",
       "      <th>recall</th>\n",
       "      <th>f1-score</th>\n",
       "      <th>support</th>\n",
       "    </tr>\n",
       "  </thead>\n",
       "  <tbody>\n",
       "    <tr>\n",
       "      <th>0.0</th>\n",
       "      <td>0.701754</td>\n",
       "      <td>0.444444</td>\n",
       "      <td>0.544218</td>\n",
       "      <td>90.000000</td>\n",
       "    </tr>\n",
       "    <tr>\n",
       "      <th>14.0</th>\n",
       "      <td>0.413043</td>\n",
       "      <td>0.633333</td>\n",
       "      <td>0.500000</td>\n",
       "      <td>30.000000</td>\n",
       "    </tr>\n",
       "    <tr>\n",
       "      <th>24.0</th>\n",
       "      <td>0.391304</td>\n",
       "      <td>0.600000</td>\n",
       "      <td>0.473684</td>\n",
       "      <td>30.000000</td>\n",
       "    </tr>\n",
       "    <tr>\n",
       "      <th>31.0</th>\n",
       "      <td>0.580645</td>\n",
       "      <td>0.600000</td>\n",
       "      <td>0.590164</td>\n",
       "      <td>30.000000</td>\n",
       "    </tr>\n",
       "    <tr>\n",
       "      <th>accuracy</th>\n",
       "      <td>0.527778</td>\n",
       "      <td>0.527778</td>\n",
       "      <td>0.527778</td>\n",
       "      <td>0.527778</td>\n",
       "    </tr>\n",
       "    <tr>\n",
       "      <th>macro avg</th>\n",
       "      <td>0.521687</td>\n",
       "      <td>0.569444</td>\n",
       "      <td>0.527016</td>\n",
       "      <td>180.000000</td>\n",
       "    </tr>\n",
       "    <tr>\n",
       "      <th>weighted avg</th>\n",
       "      <td>0.581709</td>\n",
       "      <td>0.527778</td>\n",
       "      <td>0.532750</td>\n",
       "      <td>180.000000</td>\n",
       "    </tr>\n",
       "  </tbody>\n",
       "</table>\n",
       "</div>"
      ],
      "text/plain": [
       "              precision    recall  f1-score     support\n",
       "0.0            0.701754  0.444444  0.544218   90.000000\n",
       "14.0           0.413043  0.633333  0.500000   30.000000\n",
       "24.0           0.391304  0.600000  0.473684   30.000000\n",
       "31.0           0.580645  0.600000  0.590164   30.000000\n",
       "accuracy       0.527778  0.527778  0.527778    0.527778\n",
       "macro avg      0.521687  0.569444  0.527016  180.000000\n",
       "weighted avg   0.581709  0.527778  0.532750  180.000000"
      ]
     },
     "execution_count": 22,
     "metadata": {},
     "output_type": "execute_result"
    }
   ],
   "source": [
    "report_predError_2"
   ]
  },
  {
   "cell_type": "code",
   "execution_count": null,
   "metadata": {},
   "outputs": [],
   "source": [
    "* Test Set with higher demand based 'no leak data' plus leak data"
   ]
  },
  {
   "cell_type": "code",
   "execution_count": 23,
   "metadata": {},
   "outputs": [],
   "source": [
    "cmat_predError_3,beta_predError_3,report_predError_3 = logistic_reg('multi',data_training_predError,data_test3_predError)"
   ]
  },
  {
   "cell_type": "code",
   "execution_count": 24,
   "metadata": {},
   "outputs": [
    {
     "data": {
      "text/plain": [
       "array([[28, 11, 39, 12],\n",
       "       [ 7, 19,  3,  1],\n",
       "       [ 6,  2, 18,  4],\n",
       "       [ 4,  7,  1, 18]])"
      ]
     },
     "execution_count": 24,
     "metadata": {},
     "output_type": "execute_result"
    }
   ],
   "source": [
    "cmat_predError_3"
   ]
  },
  {
   "cell_type": "code",
   "execution_count": 25,
   "metadata": {},
   "outputs": [
    {
     "data": {
      "text/html": [
       "<div>\n",
       "<style scoped>\n",
       "    .dataframe tbody tr th:only-of-type {\n",
       "        vertical-align: middle;\n",
       "    }\n",
       "\n",
       "    .dataframe tbody tr th {\n",
       "        vertical-align: top;\n",
       "    }\n",
       "\n",
       "    .dataframe thead th {\n",
       "        text-align: right;\n",
       "    }\n",
       "</style>\n",
       "<table border=\"1\" class=\"dataframe\">\n",
       "  <thead>\n",
       "    <tr style=\"text-align: right;\">\n",
       "      <th></th>\n",
       "      <th>precision</th>\n",
       "      <th>recall</th>\n",
       "      <th>f1-score</th>\n",
       "      <th>support</th>\n",
       "    </tr>\n",
       "  </thead>\n",
       "  <tbody>\n",
       "    <tr>\n",
       "      <th>0.0</th>\n",
       "      <td>0.622222</td>\n",
       "      <td>0.311111</td>\n",
       "      <td>0.414815</td>\n",
       "      <td>90.000000</td>\n",
       "    </tr>\n",
       "    <tr>\n",
       "      <th>14.0</th>\n",
       "      <td>0.487179</td>\n",
       "      <td>0.633333</td>\n",
       "      <td>0.550725</td>\n",
       "      <td>30.000000</td>\n",
       "    </tr>\n",
       "    <tr>\n",
       "      <th>24.0</th>\n",
       "      <td>0.295082</td>\n",
       "      <td>0.600000</td>\n",
       "      <td>0.395604</td>\n",
       "      <td>30.000000</td>\n",
       "    </tr>\n",
       "    <tr>\n",
       "      <th>31.0</th>\n",
       "      <td>0.514286</td>\n",
       "      <td>0.600000</td>\n",
       "      <td>0.553846</td>\n",
       "      <td>30.000000</td>\n",
       "    </tr>\n",
       "    <tr>\n",
       "      <th>accuracy</th>\n",
       "      <td>0.461111</td>\n",
       "      <td>0.461111</td>\n",
       "      <td>0.461111</td>\n",
       "      <td>0.461111</td>\n",
       "    </tr>\n",
       "    <tr>\n",
       "      <th>macro avg</th>\n",
       "      <td>0.479692</td>\n",
       "      <td>0.536111</td>\n",
       "      <td>0.478748</td>\n",
       "      <td>180.000000</td>\n",
       "    </tr>\n",
       "    <tr>\n",
       "      <th>weighted avg</th>\n",
       "      <td>0.527202</td>\n",
       "      <td>0.461111</td>\n",
       "      <td>0.457437</td>\n",
       "      <td>180.000000</td>\n",
       "    </tr>\n",
       "  </tbody>\n",
       "</table>\n",
       "</div>"
      ],
      "text/plain": [
       "              precision    recall  f1-score     support\n",
       "0.0            0.622222  0.311111  0.414815   90.000000\n",
       "14.0           0.487179  0.633333  0.550725   30.000000\n",
       "24.0           0.295082  0.600000  0.395604   30.000000\n",
       "31.0           0.514286  0.600000  0.553846   30.000000\n",
       "accuracy       0.461111  0.461111  0.461111    0.461111\n",
       "macro avg      0.479692  0.536111  0.478748  180.000000\n",
       "weighted avg   0.527202  0.461111  0.457437  180.000000"
      ]
     },
     "execution_count": 25,
     "metadata": {},
     "output_type": "execute_result"
    }
   ],
   "source": [
    "report_predError_3"
   ]
  },
  {
   "cell_type": "code",
   "execution_count": null,
   "metadata": {},
   "outputs": [],
   "source": []
  }
 ],
 "metadata": {
  "kernelspec": {
   "display_name": "Python 3",
   "language": "python",
   "name": "python3"
  },
  "language_info": {
   "codemirror_mode": {
    "name": "ipython",
    "version": 3
   },
   "file_extension": ".py",
   "mimetype": "text/x-python",
   "name": "python",
   "nbconvert_exporter": "python",
   "pygments_lexer": "ipython3",
   "version": "3.8.5"
  }
 },
 "nbformat": 4,
 "nbformat_minor": 4
}
