{
 "cells": [
  {
   "cell_type": "code",
   "execution_count": 31,
   "metadata": {},
   "outputs": [],
   "source": [
    "import numpy as np\n",
    "import pandas as pd\n",
    "import os\n",
    "import copy\n",
    "import matplotlib.pylab as plt\n",
    "import seaborn as sbn\n",
    "import pickle\n",
    "\n",
    "from scipy.stats import ks_2samp\n",
    "from sklearn.preprocessing import MinMaxScaler, StandardScaler,PolynomialFeatures\n",
    "from sklearn.model_selection import train_test_split\n",
    "from sklearn.metrics import mean_squared_error, mean_absolute_error, r2_score, confusion_matrix, classification_report\n",
    "from sklearn.linear_model import LinearRegression,LogisticRegression\n",
    "from itertools import permutations, combinations\n",
    "from statsmodels.discrete.discrete_model import Logit"
   ]
  },
  {
   "cell_type": "markdown",
   "metadata": {},
   "source": [
    "## Loading datafiles for classification model training and testing"
   ]
  },
  {
   "cell_type": "code",
   "execution_count": 32,
   "metadata": {},
   "outputs": [],
   "source": [
    "# Getting path for the 'parent folder'\n",
    "path_cwd = os.getcwd()\n",
    "path_parent = os.path.abspath(os.path.join(path_cwd, os.pardir))\n",
    "\n",
    "# Getting path for the data files\n",
    "datafiles_folder_name = 'Data_files'\n",
    "\n",
    "datafile_training_predError = 'data_training_classification_pred_error_based.csv'\n",
    "datafile_test1_predError = 'data_testing_classification_pred_error_based_BaseDemand.csv'\n",
    "datafile_test2_predError = 'data_testing_classification_pred_error_based_DiffLow.csv'\n",
    "datafile_test3_predError = 'data_testing_classification_pred_error_based_DiffHigh.csv'\n",
    "\n",
    "datafile_test_small_leak = 'data_testing_classification_small_leak.csv'\n",
    "datafile_test_mid_leak = 'data_testing_classification_mid_leak.csv'\n",
    "datafile_test_large_leak = 'data_testing_classification_large_leak.csv'\n",
    "\n",
    "path_training_predError = os.path.join(path_parent,datafiles_folder_name, datafile_training_predError)\n",
    "path_test1_predError = os.path.join(path_parent, datafiles_folder_name, datafile_test1_predError)\n",
    "path_test2_predError = os.path.join(path_parent, datafiles_folder_name, datafile_test2_predError)\n",
    "path_test3_predError = os.path.join(path_parent, datafiles_folder_name, datafile_test3_predError)\n",
    "\n",
    "path_test_small = os.path.join(path_parent, datafiles_folder_name, datafile_test_small_leak)\n",
    "path_test_mid = os.path.join(path_parent, datafiles_folder_name, datafile_test_mid_leak)\n",
    "path_test_large = os.path.join(path_parent, datafiles_folder_name, datafile_test_large_leak)\n",
    "\n",
    "# Loading files\n",
    "data_training_predError = pd.read_csv(path_training_predError)\n",
    "data_test1_predError = pd.read_csv(path_test1_predError)\n",
    "data_test2_predError = pd.read_csv(path_test2_predError)\n",
    "data_test3_predError = pd.read_csv(path_test3_predError)\n",
    "\n",
    "data_test_small_leak = pd.read_csv(path_test_small)\n",
    "data_test_mid_leak = pd.read_csv(path_test_mid)\n",
    "data_test_large_leak = pd.read_csv(path_test_large)"
   ]
  },
  {
   "cell_type": "code",
   "execution_count": 33,
   "metadata": {},
   "outputs": [],
   "source": [
    "# Selecting the featutes like means, ks_stat or ks_pval\n",
    "\n",
    "def feature_selection(data_df,features,output_col):\n",
    "    \n",
    "    columns = []\n",
    "    for feature in features:\n",
    "        col_temp = [col for col in data_df.columns if feature in col]\n",
    "        columns.extend(col_temp)\n",
    "    columns.extend(output_col)\n",
    "    data_df_select = data_df[columns]\n",
    "    return data_df_select"
   ]
  },
  {
   "cell_type": "markdown",
   "metadata": {},
   "source": [
    "## Logistic Regression Model"
   ]
  },
  {
   "cell_type": "code",
   "execution_count": 34,
   "metadata": {},
   "outputs": [],
   "source": [
    "def logistic_reg(output_type,\n",
    "                 train_df_full,\n",
    "                 test_df_full,\n",
    "                 features): # 'obs','prd','stat','pval'\n",
    "    \n",
    "    if output_type == 'binary':\n",
    "        output_col = ['leak']\n",
    "    else:\n",
    "        output_col = ['leak_num']\n",
    "        \n",
    "    train_df = feature_selection(train_df_full,features,output_col)\n",
    "    test_df = feature_selection(test_df_full,features,output_col)\n",
    "\n",
    "    xdata=np.array(train_df)[:,:-2]\n",
    "    if output_type=='binary':\n",
    "        ydata=np.array(train_df)[:,-2]\n",
    "    else:\n",
    "        ydata=np.array(train_df)[:,-1]\n",
    "    \n",
    "    xdata_test=np.array(test_df)[:,:-2]\n",
    "    if output_type=='binary':\n",
    "        ydata_test=np.array(test_df)[:,-2]\n",
    "    else:\n",
    "        ydata_test=np.array(test_df)[:,-1]\n",
    "    \n",
    "    scaler = StandardScaler()\n",
    "    xtrain_norm = scaler.fit_transform(xdata)\n",
    "    xtest_norm = scaler.transform(xdata_test)\n",
    "    \n",
    "    if output_type=='binary':\n",
    "        model=LogisticRegression()\n",
    "    else:\n",
    "        model=LogisticRegression(multi_class='multinomial',class_weight='balanced',max_iter=5000)\n",
    "        \n",
    "    model.fit(xtrain_norm,ydata)\n",
    "    beta = model.coef_\n",
    "    ypred = model.predict(xtest_norm)\n",
    "    report = classification_report(ydata_test,ypred,output_dict=True)\n",
    "    report_df = pd.DataFrame(report).transpose()\n",
    "    \n",
    "    conf_mat = confusion_matrix(ydata_test,ypred)\n",
    "    \n",
    "    return conf_mat, beta,report_df"
   ]
  },
  {
   "cell_type": "markdown",
   "metadata": {},
   "source": [
    "## Results for Prediction Error based approach"
   ]
  },
  {
   "cell_type": "markdown",
   "metadata": {},
   "source": [
    "* Test Set with normal/expected demand based 'no leak data' plus leak data"
   ]
  },
  {
   "cell_type": "code",
   "execution_count": 35,
   "metadata": {},
   "outputs": [],
   "source": [
    "cmat_predError_1_stat,beta_predError_1_stat,report_predError_1_stat = logistic_reg('multi',\n",
    "                                                                    data_training_predError,\n",
    "                                                                    data_test1_predError,\n",
    "                                                                   ['stat'])"
   ]
  },
  {
   "cell_type": "code",
   "execution_count": 36,
   "metadata": {},
   "outputs": [],
   "source": [
    "cmat_predError_1_mean,beta_predError_1_mean,report_predError_1_mean = logistic_reg('multi',\n",
    "                                                                    data_training_predError,\n",
    "                                                                    data_test1_predError,\n",
    "                                                                   ['obs','prd'])"
   ]
  },
  {
   "cell_type": "code",
   "execution_count": 37,
   "metadata": {},
   "outputs": [],
   "source": [
    "cmat_predError_1_all,beta_predError_1_all,report_predError_1_all = logistic_reg('multi',\n",
    "                                                                    data_training_predError,\n",
    "                                                                    data_test1_predError,\n",
    "                                                                   ['obs','prd','stat'])"
   ]
  },
  {
   "cell_type": "code",
   "execution_count": 38,
   "metadata": {},
   "outputs": [
    {
     "data": {
      "text/plain": [
       "array([[900,   0,   0,   0],\n",
       "       [  0, 300,   0,   0],\n",
       "       [  3,   0, 297,   0],\n",
       "       [  2,   0,   0, 298]])"
      ]
     },
     "execution_count": 38,
     "metadata": {},
     "output_type": "execute_result"
    }
   ],
   "source": [
    "cmat_predError_1_stat"
   ]
  },
  {
   "cell_type": "code",
   "execution_count": 39,
   "metadata": {},
   "outputs": [
    {
     "data": {
      "text/plain": [
       "array([[900,   0,   0,   0],\n",
       "       [  0, 300,   0,   0],\n",
       "       [  0,   0, 300,   0],\n",
       "       [  0,   0,   0, 300]])"
      ]
     },
     "execution_count": 39,
     "metadata": {},
     "output_type": "execute_result"
    }
   ],
   "source": [
    "cmat_predError_1_mean"
   ]
  },
  {
   "cell_type": "code",
   "execution_count": 40,
   "metadata": {},
   "outputs": [
    {
     "data": {
      "text/plain": [
       "array([[900,   0,   0,   0],\n",
       "       [  0, 300,   0,   0],\n",
       "       [  1,   0, 299,   0],\n",
       "       [  0,   0,   0, 300]])"
      ]
     },
     "execution_count": 40,
     "metadata": {},
     "output_type": "execute_result"
    }
   ],
   "source": [
    "cmat_predError_1_all"
   ]
  },
  {
   "cell_type": "markdown",
   "metadata": {},
   "source": [
    "## Results with one leak size at a time"
   ]
  },
  {
   "cell_type": "code",
   "execution_count": 27,
   "metadata": {},
   "outputs": [
    {
     "name": "stderr",
     "output_type": "stream",
     "text": [
      "/home/vineet/anaconda3/lib/python3.7/site-packages/sklearn/metrics/_classification.py:1272: UndefinedMetricWarning: Precision and F-score are ill-defined and being set to 0.0 in labels with no predicted samples. Use `zero_division` parameter to control this behavior.\n",
      "  _warn_prf(average, modifier, msg_start, len(result))\n"
     ]
    }
   ],
   "source": [
    "cmat_small_stat,beta_small_stat,report_small_stat = logistic_reg('multi',\n",
    "                                                                    data_training_predError,\n",
    "                                                                    data_test_small_leak,\n",
    "                                                                   ['stat'])"
   ]
  },
  {
   "cell_type": "code",
   "execution_count": 28,
   "metadata": {},
   "outputs": [
    {
     "data": {
      "text/plain": [
       "array([[300,   0,   0,   0],\n",
       "       [100,   0,   0,   0],\n",
       "       [100,   0,   0,   0],\n",
       "       [100,   0,   0,   0]])"
      ]
     },
     "execution_count": 28,
     "metadata": {},
     "output_type": "execute_result"
    }
   ],
   "source": [
    "cmat_small_stat"
   ]
  },
  {
   "cell_type": "code",
   "execution_count": 29,
   "metadata": {},
   "outputs": [
    {
     "name": "stderr",
     "output_type": "stream",
     "text": [
      "/home/vineet/anaconda3/lib/python3.7/site-packages/sklearn/metrics/_classification.py:1272: UndefinedMetricWarning: Precision and F-score are ill-defined and being set to 0.0 in labels with no predicted samples. Use `zero_division` parameter to control this behavior.\n",
      "  _warn_prf(average, modifier, msg_start, len(result))\n"
     ]
    }
   ],
   "source": [
    "cmat_small_mean,beta_small_mean,report_small_mean = logistic_reg('multi',\n",
    "                                                                    data_training_predError,\n",
    "                                                                    data_test_small_leak,\n",
    "                                                                    ['obs','prd'])"
   ]
  },
  {
   "cell_type": "code",
   "execution_count": 30,
   "metadata": {},
   "outputs": [
    {
     "data": {
      "text/plain": [
       "array([[300,   0,   0,   0],\n",
       "       [100,   0,   0,   0],\n",
       "       [100,   0,   0,   0],\n",
       "       [100,   0,   0,   0]])"
      ]
     },
     "execution_count": 30,
     "metadata": {},
     "output_type": "execute_result"
    }
   ],
   "source": [
    "cmat_small_mean"
   ]
  },
  {
   "cell_type": "code",
   "execution_count": null,
   "metadata": {},
   "outputs": [],
   "source": []
  }
 ],
 "metadata": {
  "kernelspec": {
   "display_name": "Python 3",
   "language": "python",
   "name": "python3"
  },
  "language_info": {
   "codemirror_mode": {
    "name": "ipython",
    "version": 3
   },
   "file_extension": ".py",
   "mimetype": "text/x-python",
   "name": "python",
   "nbconvert_exporter": "python",
   "pygments_lexer": "ipython3",
   "version": "3.7.6"
  }
 },
 "nbformat": 4,
 "nbformat_minor": 4
}
