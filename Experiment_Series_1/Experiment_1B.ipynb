{
 "cells": [
  {
   "cell_type": "code",
   "execution_count": 1,
   "metadata": {},
   "outputs": [],
   "source": [
    "import numpy as np\n",
    "import pandas as pd\n",
    "import os\n",
    "import copy\n",
    "import seaborn as sbn\n",
    "import matplotlib.pylab as plt\n",
    "\n",
    "from sklearn.preprocessing import MinMaxScaler, StandardScaler,PolynomialFeatures\n",
    "from sklearn.model_selection import train_test_split\n",
    "from sklearn.metrics import mean_squared_error, mean_absolute_error, r2_score\n",
    "from sklearn.linear_model import LinearRegression"
   ]
  },
  {
   "cell_type": "markdown",
   "metadata": {},
   "source": [
    "## Loading the datafiles for training and testing models"
   ]
  },
  {
   "cell_type": "code",
   "execution_count": 2,
   "metadata": {},
   "outputs": [],
   "source": [
    "# Getting path for the 'parent folder'\n",
    "path_cwd = os.getcwd()\n",
    "path_parent = os.path.abspath(os.path.join(path_cwd, os.pardir))\n",
    "\n",
    "# Getting path for the data files\n",
    "datafiles_folder_name = 'Data_files'\n",
    "trainfile = 'data_base_demand_train_1.csv'\n",
    "testfile = 'data_base_demand_test.csv'\n",
    "path_trainfile = os.path.join(path_parent,datafiles_folder_name,trainfile)\n",
    "path_testfile = os.path.join(path_parent,datafiles_folder_name,testfile)"
   ]
  },
  {
   "cell_type": "code",
   "execution_count": 3,
   "metadata": {},
   "outputs": [],
   "source": [
    "#Loading datafiles\n",
    "operating_scenarios_df_train = pd.read_csv(path_trainfile)\n",
    "operating_scenarios_df_test = pd.read_csv(path_testfile)"
   ]
  },
  {
   "cell_type": "code",
   "execution_count": 4,
   "metadata": {},
   "outputs": [],
   "source": [
    "# Initializing a few parameters\n",
    "num_demand = 32\n",
    "num_head = 32\n",
    "num_flow = 34"
   ]
  },
  {
   "cell_type": "code",
   "execution_count": 5,
   "metadata": {},
   "outputs": [],
   "source": [
    "# Seperating out the column names in the datafiles among demand, head and flow value column headers\n",
    "column_demand = operating_scenarios_df_train.columns[:num_demand]\n",
    "column_head = operating_scenarios_df_train.columns[num_demand:num_demand+num_head]\n",
    "column_flow = operating_scenarios_df_train.columns[num_demand+num_head:]"
   ]
  },
  {
   "cell_type": "markdown",
   "metadata": {},
   "source": [
    "## The model is a linear regression model, detailed below:\n",
    "* Subnetowrk level prediction of nodal heads and flowrates\n",
    "* Input: Demand at the nodes in the subnetwork and head and flowrate just outside of the network\n",
    "* Output: One output at a time, either flow in a link or prssure head at a node in the network"
   ]
  },
  {
   "cell_type": "code",
   "execution_count": 6,
   "metadata": {},
   "outputs": [],
   "source": [
    "# Function to extract data for model training and testing\n",
    "# Pred type could be 'head' or 'flow'\n",
    "# Pred num is the number of the node for 'head' type and number of the link for 'flow' type\n",
    "# Input is the demand values across the subnetwork and and flow and head outside the subnetwork\n",
    "\n",
    "def data_for_model(operating_scenarios_df,pred_type,pred_num,input_demand,input_head,input_flow):\n",
    "    \n",
    "    demandlist = ['Demand'+str(i) for i in input_demand]\n",
    "    headlist = ['Node_head'+str(i) for i in input_head]\n",
    "    flowlist = ['Link_flow'+str(i) for i in input_flow]\n",
    "    inputlist = demandlist+headlist+flowlist\n",
    "    \n",
    "    data_in = np.array(operating_scenarios_df[inputlist])\n",
    "    \n",
    "    if pred_type == 'head':\n",
    "        data_out = np.array(operating_scenarios_df['Node_head'+str(pred_num)]).reshape(-1,1)\n",
    "    else:\n",
    "        data_out = np.array(operating_scenarios_df['Link_flow'+str(pred_num)]).reshape(-1,1)\n",
    "        \n",
    "    data_model = np.hstack((data_in,data_out))\n",
    "    \n",
    "    return data_in, data_out"
   ]
  },
  {
   "cell_type": "markdown",
   "metadata": {},
   "source": [
    "## Function that works as a linear regression model"
   ]
  },
  {
   "cell_type": "code",
   "execution_count": 7,
   "metadata": {},
   "outputs": [],
   "source": [
    "# polynomial fit\n",
    "def polymodel(n,X_train,y_train):\n",
    "    \n",
    "    poly = PolynomialFeatures(degree=n)\n",
    "    X_train_poly = poly.fit_transform(X_train)    \n",
    "    lin_model = LinearRegression()\n",
    "    lin_model.fit(X_train_poly,y_train)    \n",
    "    \n",
    "    return lin_model"
   ]
  },
  {
   "cell_type": "markdown",
   "metadata": {},
   "source": [
    "## Below code uses the 'polymodel' function iteratively to train a regression model and make predictions in each iteration. Iterations are made over all the links within the subnetwork. Flowrate in the link is learnt and predicted"
   ]
  },
  {
   "cell_type": "code",
   "execution_count": 8,
   "metadata": {},
   "outputs": [],
   "source": [
    "flow_error_mean=[]\n",
    "flow_error_std=[]\n",
    "flow_error_r2=[]\n",
    "Fytest = {}\n",
    "Fypred = {}\n",
    "\n",
    "in_demands = [23,24,25,28,29,30,31,32]\n",
    "in_flows = [23,26]\n",
    "in_heads = [20,26]\n",
    "out_flows = [24,25,29,30,31,32,33,34]\n",
    "    \n",
    "for i in out_flows:\n",
    "    X_train,y_train = data_for_model(operating_scenarios_df_train,'flow',i,in_demands,in_heads,in_flows)\n",
    "    X_test,y_test = data_for_model(operating_scenarios_df_test,'flow',i,in_demands,in_heads,in_flows)\n",
    "    \n",
    "    lin_model = polymodel(2,X_train,y_train)\n",
    "    poly = PolynomialFeatures(degree=2)\n",
    "    X_test_poly = poly.fit_transform(X_test)\n",
    "    Fypred[i] = lin_model.predict(X_test_poly)\n",
    "    Fytest[i] = y_test\n",
    "    error = Fytest[i] - Fypred[i]\n",
    "    flow_error_mean.append(np.mean(error))\n",
    "    flow_error_std.append(np.std(error))\n",
    "    flow_error_r2.append(r2_score(Fytest[i],Fypred[i]))"
   ]
  },
  {
   "cell_type": "code",
   "execution_count": 9,
   "metadata": {},
   "outputs": [],
   "source": [
    "PolyReg_flows = pd.DataFrame(columns=['link','mean','Std','R2'])\n",
    "PolyReg_flows['link']=out_flows\n",
    "PolyReg_flows['mean']=flow_error_mean\n",
    "PolyReg_flows['Std']=flow_error_std\n",
    "PolyReg_flows['R2']=flow_error_r2"
   ]
  },
  {
   "cell_type": "code",
   "execution_count": 10,
   "metadata": {},
   "outputs": [
    {
     "data": {
      "text/html": [
       "<div>\n",
       "<style scoped>\n",
       "    .dataframe tbody tr th:only-of-type {\n",
       "        vertical-align: middle;\n",
       "    }\n",
       "\n",
       "    .dataframe tbody tr th {\n",
       "        vertical-align: top;\n",
       "    }\n",
       "\n",
       "    .dataframe thead th {\n",
       "        text-align: right;\n",
       "    }\n",
       "</style>\n",
       "<table border=\"1\" class=\"dataframe\">\n",
       "  <thead>\n",
       "    <tr style=\"text-align: right;\">\n",
       "      <th></th>\n",
       "      <th>link</th>\n",
       "      <th>mean</th>\n",
       "      <th>Std</th>\n",
       "      <th>R2</th>\n",
       "    </tr>\n",
       "  </thead>\n",
       "  <tbody>\n",
       "    <tr>\n",
       "      <th>0</th>\n",
       "      <td>24</td>\n",
       "      <td>0.000216</td>\n",
       "      <td>0.001301</td>\n",
       "      <td>0.999942</td>\n",
       "    </tr>\n",
       "    <tr>\n",
       "      <th>1</th>\n",
       "      <td>25</td>\n",
       "      <td>0.000188</td>\n",
       "      <td>0.001416</td>\n",
       "      <td>0.999904</td>\n",
       "    </tr>\n",
       "    <tr>\n",
       "      <th>2</th>\n",
       "      <td>29</td>\n",
       "      <td>-0.000301</td>\n",
       "      <td>0.001680</td>\n",
       "      <td>0.999302</td>\n",
       "    </tr>\n",
       "    <tr>\n",
       "      <th>3</th>\n",
       "      <td>30</td>\n",
       "      <td>-0.000245</td>\n",
       "      <td>0.001838</td>\n",
       "      <td>0.997117</td>\n",
       "    </tr>\n",
       "    <tr>\n",
       "      <th>4</th>\n",
       "      <td>31</td>\n",
       "      <td>-0.000624</td>\n",
       "      <td>0.001491</td>\n",
       "      <td>0.996008</td>\n",
       "    </tr>\n",
       "    <tr>\n",
       "      <th>5</th>\n",
       "      <td>32</td>\n",
       "      <td>-0.000375</td>\n",
       "      <td>0.001430</td>\n",
       "      <td>0.998617</td>\n",
       "    </tr>\n",
       "    <tr>\n",
       "      <th>6</th>\n",
       "      <td>33</td>\n",
       "      <td>0.000654</td>\n",
       "      <td>0.001536</td>\n",
       "      <td>0.999218</td>\n",
       "    </tr>\n",
       "    <tr>\n",
       "      <th>7</th>\n",
       "      <td>34</td>\n",
       "      <td>0.000619</td>\n",
       "      <td>0.002208</td>\n",
       "      <td>0.999255</td>\n",
       "    </tr>\n",
       "  </tbody>\n",
       "</table>\n",
       "</div>"
      ],
      "text/plain": [
       "   link      mean       Std        R2\n",
       "0    24  0.000216  0.001301  0.999942\n",
       "1    25  0.000188  0.001416  0.999904\n",
       "2    29 -0.000301  0.001680  0.999302\n",
       "3    30 -0.000245  0.001838  0.997117\n",
       "4    31 -0.000624  0.001491  0.996008\n",
       "5    32 -0.000375  0.001430  0.998617\n",
       "6    33  0.000654  0.001536  0.999218\n",
       "7    34  0.000619  0.002208  0.999255"
      ]
     },
     "execution_count": 10,
     "metadata": {},
     "output_type": "execute_result"
    }
   ],
   "source": [
    "PolyReg_flows"
   ]
  },
  {
   "cell_type": "markdown",
   "metadata": {},
   "source": [
    "## Below code uses the 'polymodel' function iteratively to train a regression model and make predictions in each iteration. Iterations are made over all the nodes and pressure head is learnt and predicted"
   ]
  },
  {
   "cell_type": "code",
   "execution_count": 15,
   "metadata": {},
   "outputs": [],
   "source": [
    "head_error_mean=[]\n",
    "head_error_std=[]\n",
    "head_error_r2=[]\n",
    "Hytest={}\n",
    "Hypred={}\n",
    "\n",
    "in_demands = [23,24,25,28,29,30,31,32]\n",
    "in_flows = [23,26]\n",
    "in_heads = [20,26]\n",
    "out_heads = [23,24,25,28,29,30,31,32] \n",
    "    \n",
    "    \n",
    "for i in out_heads:\n",
    "    X_train,y_train = data_for_model(operating_scenarios_df_train,'head',i,in_demands,in_heads,in_flows)\n",
    "    X_test,y_test = data_for_model(operating_scenarios_df_test,'head',i,in_demands,in_heads,in_flows)\n",
    "    \n",
    "    lin_model = polymodel(2,X_train,y_train)\n",
    "    poly = PolynomialFeatures(degree=2)\n",
    "    X_test_poly = poly.fit_transform(X_test)\n",
    "    Hypred[i] = lin_model.predict(X_test_poly)\n",
    "    Hytest[i] = y_test\n",
    "    error = Hytest[i] - Hypred[i]\n",
    "    head_error_mean.append(np.mean(error))\n",
    "    head_error_std.append(np.std(error))\n",
    "    head_error_r2.append(r2_score(Hytest[i],Hypred[i]))"
   ]
  },
  {
   "cell_type": "code",
   "execution_count": 16,
   "metadata": {},
   "outputs": [],
   "source": [
    "PolyReg_heads = pd.DataFrame(columns=['mean','Std','R2'])\n",
    "PolyReg_heads['mean']=head_error_mean\n",
    "PolyReg_heads['Std']=head_error_std\n",
    "PolyReg_heads['R2']=head_error_r2"
   ]
  },
  {
   "cell_type": "code",
   "execution_count": 17,
   "metadata": {},
   "outputs": [
    {
     "data": {
      "text/html": [
       "<div>\n",
       "<style scoped>\n",
       "    .dataframe tbody tr th:only-of-type {\n",
       "        vertical-align: middle;\n",
       "    }\n",
       "\n",
       "    .dataframe tbody tr th {\n",
       "        vertical-align: top;\n",
       "    }\n",
       "\n",
       "    .dataframe thead th {\n",
       "        text-align: right;\n",
       "    }\n",
       "</style>\n",
       "<table border=\"1\" class=\"dataframe\">\n",
       "  <thead>\n",
       "    <tr style=\"text-align: right;\">\n",
       "      <th></th>\n",
       "      <th>mean</th>\n",
       "      <th>Std</th>\n",
       "      <th>R2</th>\n",
       "    </tr>\n",
       "  </thead>\n",
       "  <tbody>\n",
       "    <tr>\n",
       "      <th>0</th>\n",
       "      <td>-0.000358</td>\n",
       "      <td>0.002212</td>\n",
       "      <td>1.000000</td>\n",
       "    </tr>\n",
       "    <tr>\n",
       "      <th>1</th>\n",
       "      <td>-0.006754</td>\n",
       "      <td>0.018108</td>\n",
       "      <td>1.000000</td>\n",
       "    </tr>\n",
       "    <tr>\n",
       "      <th>2</th>\n",
       "      <td>-0.011796</td>\n",
       "      <td>0.035234</td>\n",
       "      <td>1.000000</td>\n",
       "    </tr>\n",
       "    <tr>\n",
       "      <th>3</th>\n",
       "      <td>0.070801</td>\n",
       "      <td>0.227965</td>\n",
       "      <td>0.999985</td>\n",
       "    </tr>\n",
       "    <tr>\n",
       "      <th>4</th>\n",
       "      <td>0.173745</td>\n",
       "      <td>0.572932</td>\n",
       "      <td>0.999904</td>\n",
       "    </tr>\n",
       "    <tr>\n",
       "      <th>5</th>\n",
       "      <td>0.112122</td>\n",
       "      <td>0.442713</td>\n",
       "      <td>0.999944</td>\n",
       "    </tr>\n",
       "    <tr>\n",
       "      <th>6</th>\n",
       "      <td>0.060238</td>\n",
       "      <td>0.319292</td>\n",
       "      <td>0.999972</td>\n",
       "    </tr>\n",
       "    <tr>\n",
       "      <th>7</th>\n",
       "      <td>-0.022105</td>\n",
       "      <td>0.087920</td>\n",
       "      <td>0.999998</td>\n",
       "    </tr>\n",
       "  </tbody>\n",
       "</table>\n",
       "</div>"
      ],
      "text/plain": [
       "       mean       Std        R2\n",
       "0 -0.000358  0.002212  1.000000\n",
       "1 -0.006754  0.018108  1.000000\n",
       "2 -0.011796  0.035234  1.000000\n",
       "3  0.070801  0.227965  0.999985\n",
       "4  0.173745  0.572932  0.999904\n",
       "5  0.112122  0.442713  0.999944\n",
       "6  0.060238  0.319292  0.999972\n",
       "7 -0.022105  0.087920  0.999998"
      ]
     },
     "execution_count": 17,
     "metadata": {},
     "output_type": "execute_result"
    }
   ],
   "source": [
    "PolyReg_heads"
   ]
  },
  {
   "cell_type": "code",
   "execution_count": null,
   "metadata": {},
   "outputs": [],
   "source": []
  }
 ],
 "metadata": {
  "kernelspec": {
   "display_name": "Python 3",
   "language": "python",
   "name": "python3"
  },
  "language_info": {
   "codemirror_mode": {
    "name": "ipython",
    "version": 3
   },
   "file_extension": ".py",
   "mimetype": "text/x-python",
   "name": "python",
   "nbconvert_exporter": "python",
   "pygments_lexer": "ipython3",
   "version": "3.8.5"
  }
 },
 "nbformat": 4,
 "nbformat_minor": 4
}
